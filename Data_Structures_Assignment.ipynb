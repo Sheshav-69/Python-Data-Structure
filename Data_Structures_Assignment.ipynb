{
  "nbformat": 4,
  "nbformat_minor": 0,
  "metadata": {
    "colab": {
      "provenance": []
    },
    "kernelspec": {
      "name": "python3",
      "display_name": "Python 3"
    },
    "language_info": {
      "name": "python"
    }
  },
  "cells": [
    {
      "cell_type": "markdown",
      "source": [
        "# Theoretical Questions\n",
        "\n",
        "# Q-1. What are data structures, and why are they important ?\n",
        "       -> Data structures in Python are specialized formats for organizing, managing, and storing data efficiently. They allow developers to perform operations like accessing, modifying, and managing data in a structured and optimized manner. Python provides both built-in and user-defined data structures.\n",
        "\n",
        "       Data Structures are important in python because-\n",
        "       1. Data structures helps in organizing data logically and efficiently, enabling faster access and modification.\n",
        "       2. Different tasks require specific data structures to minimize time and space complexity so it optimizes the performance.\n",
        "       3. Python's built-in data structures are versatile and allow dynamic resizing, making them suitable for a wide range of applications.\n",
        "       4. Data structures are essential in applications like Web development, Machine learning. Database systems."
      ],
      "metadata": {
        "id": "XF-4Eq-aagQx"
      }
    },
    {
      "cell_type": "markdown",
      "source": [
        "# Q-2. Explain the difference between mutable and immutable data types with examples.\n",
        "    -> Mutable data types allow modification after creation. Their values can be changed in place without creating a new object in memory.\n",
        "    Examples: list, dict, set, and user-defined objects (unless explicitly made immutable). We use mutable types when we need to modify data in place, such as appending items to a list or updating a dictionary.\n",
        "\n",
        "    Immutable data types do not allow modification after creation. Any operation that alters the value will result in the creation of a new object.\n",
        "    Examples: int, float, str, tuple, frozenset, and bool. We use immutable types when we need data to remain constant, such as using strings or tuples as keys in a dictionary."
      ],
      "metadata": {
        "id": "ME4zYay7yUAg"
      }
    },
    {
      "cell_type": "markdown",
      "source": [
        "# Q-3.  What are the main differences between lists and tuples in Python.\n",
        "    ->Both lists and tuples are used to store collections of items in Python, but they have key differences in terms of mutability, performance, and use cases.\n",
        "    Let's discuss lists -\n",
        "    1. Mutability-\n",
        "    Mutable: Items can be added, removed, or modified.\n",
        "    2. Performance-\n",
        "    Slower due to dynamic nature and overhead for mutability.\n",
        "    3. Use cases-\n",
        "    Used for dynamic collections of data where changes are expected.\n",
        "    \n",
        "    Now, let's dive into tuples-\n",
        "    1. Mutability-\n",
        "    Immutable: Items cannot be changed after creation.\n",
        "    2. Performance-\n",
        "    Faster because of immutability.\n",
        "    3. Use cases-\n",
        "    Used for fixed collections of data or constants.\n"
      ],
      "metadata": {
        "id": "MvKlgjHMzS8u"
      }
    },
    {
      "cell_type": "markdown",
      "source": [
        "# Q-4.  Describe how dictionaries store data.\n",
        "    -> In Python, dictionaries are powerful data structures that store data as key-value pairs. They are implemented using a hash table, making them efficient for lookups, insertions, and deletions.\n",
        "    Each element in a dictionary consists of a key and its associated value.Example: {'name': 'Deepak', 'age': 25} → Key: 'name', Value: 'Deepak'.\n",
        "    \n",
        "    A dictionary internally uses a hash table to store and retrieve key-value pairs efficiently. The key is hashed using a hash function to produce a unique index for storing the value in the hash table.\n",
        "    \n",
        "    The hash table is divided into \"buckets,\" each capable of holding multiple key-value pairs in case of hash collisions."
      ],
      "metadata": {
        "id": "VENbL1Ps3c73"
      }
    },
    {
      "cell_type": "markdown",
      "source": [
        "# Q-5. Why might you use a set instead of a list in Python.\n",
        "    ->      Elimination of Duplicates\n",
        "           Set: Automatically eliminates duplicate elements. This makes sets ideal for use cases where you need to ensure the uniqueness of items.\n",
        "            List: Allows duplicate elements, so we would need extra logic to remove duplicates manually.\n",
        "\n",
        "            Faster Membership Testing-\n",
        "            Set: Membership testing (item in set) is O(1) on average due to the underlying hash table.\n",
        "            List: Membership testing (item in list) is O(n) because it requires a linear search.\n",
        "\n",
        "            No Order Dependency-\n",
        "            Set: Does not maintain the order of elements. Use sets when the order of elements is not important.\n",
        "            List: Maintains the order of elements, making it better suited for ordered collections.\n",
        "\n",
        "            Performance with Large Datasets-\n",
        "            Set: Performs better with large datasets when we need fast lookups, insertions, and deletions. The average time complexity for these operations is O(1).\n",
        "            List: Operations like lookups, insertions, and deletions take O(n) on average (except for append operations).\n",
        "\n",
        "            Set Operations-\n",
        "            Set: Supports mathematical set operations such as union, intersection, difference, and symmetric difference.\n",
        "            List: Requires additional coding or library functions for equivalent operations."
      ],
      "metadata": {
        "id": "sMXYjla64nM9"
      }
    },
    {
      "cell_type": "markdown",
      "source": [
        "# Q-6.  What is a string in Python, and how is it different from a list.\n",
        "    -> A string in Python is a sequence of characters enclosed in either single (') or double (\") quotes. Strings are used to represent text data and can be manipulated using various methods provided by Python.\n",
        "\n",
        "    It is different from lists on the basis of type , mutability, use cases.\n",
        "\n",
        "    **On the basis of type-**\n",
        "    In list there is sequence of items, which can be of any type (e.g., integers, strings, lists), whereas in strings it is of characters (text).\n",
        "\n",
        "    **On the basis of mutability-**\n",
        "    List are mutable Can be changed (items can be added, removed, or modified).\n",
        "    Whereas strings are immutable Cannot be changed once created.\n",
        "\n",
        "    **On the basis of use cases-**\n",
        "    List are used for storing collections of diverse data types, ordered elements, whereas strings used for storing and manipulating text.\n"
      ],
      "metadata": {
        "id": "KnCoasFG6LPi"
      }
    },
    {
      "cell_type": "markdown",
      "source": [
        "# Q-7.  How do tuples ensure data integrity in Python ?\n",
        "    -> The main feature of a tuple that ensures data integrity is its immutability. Once a tuple is created, its contents cannot be changed, protecting data from accidental or malicious modification.\n",
        "\n",
        "    Tuples are ideal for storing fixed data, representing constant values, and ensuring that the data remains consistent and unaltered, especially in multi-threaded environments or when passing data between functions."
      ],
      "metadata": {
        "id": "rGFd0sB19NEU"
      }
    },
    {
      "cell_type": "markdown",
      "source": [
        "# Q-8. What is a hash table, and how does it relate to dictionaries in Python ?\n",
        "    -> A hash table is a data structure that stores key-value pairs in such a way that allows for efficient data retrieval. It works by applying a hash function to the key to calculate an index, where the corresponding value is stored. This allows for very fast access, insertion, and deletion operations, typically with an average time complexity of O(1).\n",
        "\n",
        "    In Python, dictionaries are implemented using a hash table under the hood. When you use a dictionary, the keys are hashed to find an index where the associated values are stored. This makes dictionaries extremely efficient for tasks like key-based lookups, insertions, and deletions.\n",
        "\n"
      ],
      "metadata": {
        "id": "urSO-Bbl9unl"
      }
    },
    {
      "cell_type": "markdown",
      "source": [
        "# Q-9.  Can lists contain different data types in Python ?\n",
        "    -> Yes, lists in Python can contain different data types. A Python list is a heterogeneous collection, meaning that the elements inside a list do not need to be of the same type. We can mix data types such as integers, strings, floats, booleans, and even other lists or objects."
      ],
      "metadata": {
        "id": "A4HFAEgk-DOs"
      }
    },
    {
      "cell_type": "markdown",
      "source": [
        "# Q-10. Explain why strings are immutable in Python .\n",
        "    -> In Python, strings are immutable, meaning once a string is created, its content cannot be modified. This immutability is a core property of strings in Python and has several important implications for performance, safety, and simplicity in programming.\n",
        "\n",
        "    Let's discuss why Python strings are immutable:\n",
        "    1. If strings were mutable, this would become inefficient because every time a string is modified, a new copy would have to be created, negating the benefits of interning (a technique which python uses to called string interning,  store only one copy of each unique string value in memory, this technique is known as string interning).\n",
        "    2. Python can safely share and reuse string objects. If multiple variables refer to the same string, they all point to the same memory location, saving memory and reducing duplication.\n",
        "    3. If strings were mutable, modifying a string after it has been used as a key could alter its hash value, potentially causing errors or inconsistencies in the data structure."
      ],
      "metadata": {
        "id": "8et7OvqC-XGj"
      }
    },
    {
      "cell_type": "markdown",
      "source": [
        "# Q-11.  What advantages do dictionaries offer over lists for certain tasks ?\n",
        "    -> Dictionaries offer several advantages over lists for tasks where key-based access, efficiency, and complex data structures are needed:\n",
        "\n",
        "    Fast lookups, insertions, and deletions (O(1) average time complexity).\n",
        "    Key-value pair storage for clear association between data.\n",
        "    Uniqueness of keys.\n",
        "    Efficient modification and handling of complex, nested data.\n",
        "    Use of immutable types as keys.\n",
        "    On the other hand, lists are ideal for ordered collections where the position (index) matters and can be used to store homogeneous or simple data."
      ],
      "metadata": {
        "id": "TUrguVYgCRB-"
      }
    },
    {
      "cell_type": "markdown",
      "source": [
        "# Q-12.  Describe a scenario where using a tuple would be preferable over a list.\n",
        "    -> Tuples are preferable over lists in scenarios where:\n",
        "\n",
        "    The data is fixed and should not change (e.g., coordinates, RGB values, constant settings).\n",
        "    Immutability is desired to prevent accidental modification.\n",
        "    We want a more memory-efficient structure.\n",
        "    Using a tuple in these cases makes the code safer, clearer, and more efficient."
      ],
      "metadata": {
        "id": "XiMuvXwnC2Rj"
      }
    },
    {
      "cell_type": "markdown",
      "source": [
        "# Q-13. How do sets handle duplicate values in Python ?\n",
        "    -> Sets automatically remove duplicates, ensuring that only unique values are stored.\n",
        "    Adding duplicates to a set has no effect, as the set only retains one instance of each element.\n",
        "    Sets are an efficient way to handle collections of unique items and provide powerful operations for set-based logic (like union, intersection, and difference)."
      ],
      "metadata": {
        "id": "D86zSxXbDaNK"
      }
    },
    {
      "cell_type": "markdown",
      "source": [
        "# Q-14.  How does the “in” keyword work differently for lists and dictionaries ?\n",
        "    -> The \"in\" keyword checks if a value exists in the list, which involves iterating through all elements.\n",
        "    When used with a list, the \"in\" keyword checks whether a specific value exists in the list. It searches through the entire list and returns True if the value is found, and False otherwise.\n",
        "    Whereas in case of dictionaries the \"in\" keyword checks if a key exists in the dictionary's keys (fast, O(1) on average). If we want to check for a value instead, you can use the .values() method.\n",
        "    When used with a dictionary, the \"in\" keyword checks whether a key exists in the dictionary, not a value. This is important because dictionaries store data as key-value pairs. If you want to check if a key is present, \"in\" will check the dictionary's keys."
      ],
      "metadata": {
        "id": "otJk3xZEDyQk"
      }
    },
    {
      "cell_type": "markdown",
      "source": [
        "# Q-15. Can you modify the elements of a tuple? Explain why or why not.\n",
        "    -> No, we cannot modify the elements of a tuple in Python once it is created. This is because tuples are immutable. The key characteristic of a tuple is that its elements cannot be changed, added, or removed after creation. This means that the contents of a tuple are fixed, and no operations can alter the elements inside it once it is defined. Since tuples are immutable, Python can optimize their memory usage and performance.\n",
        "\n",
        "    Immutability ensures that the data within a tuple remains unchanged, which is useful in situations where we want to guarantee the integrity of the data (e.g., when passing data around different parts of a program or storing configuration settings).\n",
        "\n",
        "    While we cannot modify the elements of the tuple itself, we can modify the contents of mutable objects within a tuple if those elements are mutable (like lists or dictionaries). However, we cannot change the tuple structure or the number of elements."
      ],
      "metadata": {
        "id": "cHLWh5y3Ew7f"
      }
    },
    {
      "cell_type": "markdown",
      "source": [
        "# Q-16.  What is a nested dictionary, and give an example of its use case ?\n",
        "    -> A nested dictionary in Python is a dictionary where the values can be other dictionaries. This means a dictionary can contain another dictionary as a value for a particular key, allowing you to represent complex data structures and relationships.\n",
        "\n",
        "    Example of its use case-\n",
        "    "
      ],
      "metadata": {
        "id": "hI3vte7qHduH"
      }
    },
    {
      "cell_type": "code",
      "source": [
        "# Nested dictionary to store student details\n",
        "students = {\n",
        "    \"student1\": {\n",
        "        \"name\": \"Deepak\",\n",
        "        \"grades\": {\"math\": 90, \"science\": 85, \"history\": 88},\n",
        "        \"attendance\": {\"2025-01-10\": \"Present\", \"2025-01-11\": \"Absent\"}\n",
        "    },\n",
        "    \"student2\": {\n",
        "        \"name\": \"Rahul\",\n",
        "        \"grades\": {\"math\": 95, \"science\": 92, \"history\": 89},\n",
        "        \"attendance\": {\"2025-01-10\": \"Absent\", \"2025-01-11\": \"Present\"}\n",
        "    }\n",
        "}\n",
        "\n",
        "# Accessing nested data for Deepak’s math grade\n",
        "print(students[\"student1\"][\"grades\"][\"math\"])\n",
        "\n",
        "# Checking Rahul's attendance on a specific date\n",
        "print(students[\"student2\"][\"attendance\"][\"2025-01-10\"])\n"
      ],
      "metadata": {
        "colab": {
          "base_uri": "https://localhost:8080/"
        },
        "id": "JDKPzkKMIsSU",
        "outputId": "baeff067-fe58-45cb-e168-729e08aae717"
      },
      "execution_count": 1,
      "outputs": [
        {
          "output_type": "stream",
          "name": "stdout",
          "text": [
            "90\n",
            "Absent\n"
          ]
        }
      ]
    },
    {
      "cell_type": "markdown",
      "source": [
        "# Q-17. Describe the time complexity of accessing elements in a dictionary.\n",
        "    -> Average Time Complexity for Accessing an Element: O(1) (constant time).\n",
        "    Worst-Case Time Complexity (due to hash collisions): O(n), but this is rare.\n",
        "    Python dictionaries are designed to provide fast lookups with average constant time complexity, making them a highly efficient data structure for accessing elements by key."
      ],
      "metadata": {
        "id": "n1aGRUBRJ-HD"
      }
    },
    {
      "cell_type": "markdown",
      "source": [
        "# Q-18.  In what situations are lists preferred over dictionaries ?\n",
        "    -> In the following situations lists are preferred over dictionaries-\n",
        "    1. Where order matters (sequential data)\tbecause lists maintain the order of elements.\n",
        "    2. Where no unique keys are required , just a collection of values because\tlists are simpler for just storing values.\n",
        "    3. Where we need to use sequence operations (sorting, slicing, appending)\tbecause lists have built-in methods for efficient sequence manipulation.\n",
        "    Homogeneous data where order or index matters\tLists are ideal for ordered, similar-type data.\n",
        "    4. When we want use of list comprehensions because lists provide a powerful syntax for transformations.\n",
        "    5. Where we want sequence-based tasks like queues or stacks because lists work naturally for ordered tasks like LIFO and FIFO."
      ],
      "metadata": {
        "id": "IqERqlTeKWYD"
      }
    },
    {
      "cell_type": "markdown",
      "source": [
        "# Q-19.  Why are dictionaries considered unordered, and how does that affect data retrieval ?\n",
        "    -> Dictionaries are considered unordered because the internal structure (hash table) does not maintain an ordered sequence of key-value pairs based on insertion or any other natural ordering.\n",
        "\n",
        "    The unordered nature does not affect the efficiency of data retrieval using keys. Accessing a value by key is still O(1) on average.\n",
        "\n",
        "    While Python 3.7+ preserves the insertion order, dictionaries are not intended to be used when the order of elements is critical. The primary strength of dictionaries lies in fast lookups by key, not the order of elements.\n",
        "    If we need to retrieve dictionary items in a specific order (e.g., sorted by key or value), you must explicitly sort them.\n",
        "    So dictionaries are ideal for situations where fast lookups based on keys are needed, but if maintaining or relying on the order of elements is important, other data structures like lists or sorted dictionaries should be considered."
      ],
      "metadata": {
        "id": "-f0yVrbBNOw4"
      }
    },
    {
      "cell_type": "markdown",
      "source": [
        "# Q-20.  Explain the difference between a list and a dictionary in terms of data retrieval.\n",
        "    -> In case of List -\n",
        "    The time complexity is O(1) (constant time). However, if we are trying to find an index of a specific element (without knowing it already), the time complexity would be O(n) because the list must be traversed.\n",
        "\n",
        "    If we want to find an element by its value (not by index), the time complexity is O(n) because the list is traversed from the beginning to the end.\n",
        "\n",
        "    In case of dictionary -\n",
        "    The time complexity for accessing a value by its key is O(1) on average, due to the hash table implementation. The key is hashed to find the index of the corresponding value directly.\n",
        "\n",
        "    If we need to search for a value based on its key, the time complexity is O(1), which is efficient for large datasets.\n"
      ],
      "metadata": {
        "id": "gOWLuCqAN8uK"
      }
    },
    {
      "cell_type": "code",
      "source": [
        "# Example of searching for a value in a list for above question-\n",
        "my_list = [10, 20, 30, 40]\n",
        "if 30 in my_list:\n",
        "    print(\"Found\")\n"
      ],
      "metadata": {
        "colab": {
          "base_uri": "https://localhost:8080/"
        },
        "id": "Wc1atOpeRZy6",
        "outputId": "b7c0a521-0341-4fbe-d3c3-7522afbad322"
      },
      "execution_count": 2,
      "outputs": [
        {
          "output_type": "stream",
          "name": "stdout",
          "text": [
            "Found\n"
          ]
        }
      ]
    },
    {
      "cell_type": "code",
      "source": [
        "# Example of accessing a value in a dictionary for above question-\n",
        "my_dict = {\"apple\": 1, \"banana\": 2, \"cherry\": 3}\n",
        "print(my_dict[\"apple\"])\n",
        "\n"
      ],
      "metadata": {
        "colab": {
          "base_uri": "https://localhost:8080/"
        },
        "id": "H08cfKapRnbN",
        "outputId": "ecdb1aff-617a-4a4c-cb5d-937a2debbcb2"
      },
      "execution_count": 3,
      "outputs": [
        {
          "output_type": "stream",
          "name": "stdout",
          "text": [
            "1\n"
          ]
        }
      ]
    },
    {
      "cell_type": "markdown",
      "source": [
        "# Practical Questions"
      ],
      "metadata": {
        "id": "M6snRVx7SYyj"
      }
    },
    {
      "cell_type": "code",
      "source": [
        "# Q-1. Write a code to create a string with your name and print it.\n",
        "name = \"Sheshav Sharma\"\n",
        "print(name)\n"
      ],
      "metadata": {
        "colab": {
          "base_uri": "https://localhost:8080/"
        },
        "id": "06oU58-bScDA",
        "outputId": "5c086411-2d7a-4db2-db01-22b256f0cc25"
      },
      "execution_count": 4,
      "outputs": [
        {
          "output_type": "stream",
          "name": "stdout",
          "text": [
            "Sheshav Sharma\n"
          ]
        }
      ]
    },
    {
      "cell_type": "code",
      "source": [
        "# or we can do it as -\n",
        "name = input(\"Enter your name: \")\n",
        "print(\"Your name is:\", name)\n"
      ],
      "metadata": {
        "colab": {
          "base_uri": "https://localhost:8080/"
        },
        "id": "AWKr3_CtTF-1",
        "outputId": "ddb32e3f-c0a1-4813-de65-51ef47576aff"
      },
      "execution_count": 6,
      "outputs": [
        {
          "output_type": "stream",
          "name": "stdout",
          "text": [
            "Enter your name: Sheshav Sharma\n",
            "Your name is: Sheshav Sharma\n"
          ]
        }
      ]
    },
    {
      "cell_type": "code",
      "source": [
        "# Q-2.  Write a code to find the length of the string \"Hello World\"\n",
        "string = \"Hello World\"\n",
        "length = len(string)\n",
        "print(\"The length of the string is:\", length)\n"
      ],
      "metadata": {
        "colab": {
          "base_uri": "https://localhost:8080/"
        },
        "id": "8jMvdVdHUFlh",
        "outputId": "d851f8d0-7724-471c-cabf-fe82a40dbdec"
      },
      "execution_count": 7,
      "outputs": [
        {
          "output_type": "stream",
          "name": "stdout",
          "text": [
            "The length of the string is: 11\n"
          ]
        }
      ]
    },
    {
      "cell_type": "code",
      "source": [
        "# Q-3.  Write a code to slice the first 3 characters from the string \"Python Programming\".\n",
        "string = \"Python Programming\"\n",
        "sliced_string = string[:3]\n",
        "print(\"The first 3 characters are:\", sliced_string)\n"
      ],
      "metadata": {
        "colab": {
          "base_uri": "https://localhost:8080/"
        },
        "id": "fwT0-QN9VhFR",
        "outputId": "8b8a2714-8675-448b-8fe0-904050b2226d"
      },
      "execution_count": 8,
      "outputs": [
        {
          "output_type": "stream",
          "name": "stdout",
          "text": [
            "The first 3 characters are: Pyt\n"
          ]
        }
      ]
    },
    {
      "cell_type": "code",
      "source": [
        "# Q-4.  Write a code to convert the string \"hello\" to uppercase.\n",
        "string = \"hello\"\n",
        "uppercase_string = string.upper()\n",
        "print(\"The uppercase string is:\", uppercase_string)\n"
      ],
      "metadata": {
        "colab": {
          "base_uri": "https://localhost:8080/"
        },
        "id": "0BUSJrBfVr6d",
        "outputId": "d22ec3b4-a33a-401f-e939-1c0378fd7774"
      },
      "execution_count": 9,
      "outputs": [
        {
          "output_type": "stream",
          "name": "stdout",
          "text": [
            "The uppercase string is: HELLO\n"
          ]
        }
      ]
    },
    {
      "cell_type": "code",
      "source": [
        "# Q-5. Write a code to replace the word \"apple\" with \"orange\" in the string \"I like apple\".\n",
        "# Original string\n",
        "original_string = \"I like apple\"\n",
        "\n",
        "# Replacing \"apple\" with \"orange\"\n",
        "modified_string = original_string.replace(\"apple\", \"orange\")\n",
        "\n",
        "# Printing the modified string\n",
        "print(\"Modified string:\", modified_string)\n",
        "\n",
        "\n"
      ],
      "metadata": {
        "colab": {
          "base_uri": "https://localhost:8080/"
        },
        "id": "ZYzeG8aJV9DM",
        "outputId": "ff1ae6ee-2a8d-40c8-f450-2fff148c98ce"
      },
      "execution_count": 11,
      "outputs": [
        {
          "output_type": "stream",
          "name": "stdout",
          "text": [
            "Modified string: I like orange\n"
          ]
        }
      ]
    },
    {
      "cell_type": "code",
      "source": [
        "# Q-6.  Write a code to create a list with numbers 1 to 5 and print it.\n",
        "numbers = [1, 2, 3, 4, 5]\n",
        "\n",
        "# Printing the list\n",
        "print(\"List of numbers:\", numbers)\n"
      ],
      "metadata": {
        "colab": {
          "base_uri": "https://localhost:8080/"
        },
        "id": "2c4b_zXoWzlL",
        "outputId": "efd55848-75c3-4d25-862c-d13bbc5a970b"
      },
      "execution_count": 12,
      "outputs": [
        {
          "output_type": "stream",
          "name": "stdout",
          "text": [
            "List of numbers: [1, 2, 3, 4, 5]\n"
          ]
        }
      ]
    },
    {
      "cell_type": "code",
      "source": [
        "# Q-7.  Write a code to append the number 10 to the list [1, 2, 3, 4].\n",
        "# Original list\n",
        "my_list = [1, 2, 3, 4]\n",
        "\n",
        "# Appending the number 10 to the list\n",
        "my_list.append(10)\n",
        "\n",
        "# Printing the updated list\n",
        "print(my_list)\n"
      ],
      "metadata": {
        "colab": {
          "base_uri": "https://localhost:8080/"
        },
        "id": "5BDOUWkvXFEk",
        "outputId": "3264111b-62a2-40b7-89d3-faaf3391141e"
      },
      "execution_count": 13,
      "outputs": [
        {
          "output_type": "stream",
          "name": "stdout",
          "text": [
            "[1, 2, 3, 4, 10]\n"
          ]
        }
      ]
    },
    {
      "cell_type": "code",
      "source": [
        "# Q-8.  Write a code to remove the number 3 from the list [1, 2, 3, 4, 5].\n",
        "# Original list\n",
        "numbers = [1, 2, 3, 4, 5]\n",
        "\n",
        "# Removing the number 3\n",
        "numbers.remove(3)\n",
        "\n",
        "# Printing the updated list\n",
        "print(\"List after removing 3:\", numbers)\n"
      ],
      "metadata": {
        "id": "lfLHD197X6ZB"
      },
      "execution_count": null,
      "outputs": []
    },
    {
      "cell_type": "code",
      "source": [
        "# Q-9.  Write a code to access the second element in the list ['a', 'b', 'c', 'd'].\n",
        "# List of elements\n",
        "elements = ['a', 'b', 'c', 'd']\n",
        "\n",
        "# Accessing the second element\n",
        "second_element = elements[1]  # Index 1 corresponds to the second element\n",
        "\n",
        "# Print the second element\n",
        "print(\"The second element is:\", second_element)\n"
      ],
      "metadata": {
        "colab": {
          "base_uri": "https://localhost:8080/"
        },
        "id": "1iC6egkOYP-0",
        "outputId": "192990f2-f532-45ff-b3e8-4f8959be1b0b"
      },
      "execution_count": 14,
      "outputs": [
        {
          "output_type": "stream",
          "name": "stdout",
          "text": [
            "The second element is: b\n"
          ]
        }
      ]
    },
    {
      "cell_type": "code",
      "source": [
        "# Q-10. Write a code to reverse the list [10, 20, 30, 40, 50].\n",
        "# Original list\n",
        "numbers = [10, 20, 30, 40, 50]\n",
        "\n",
        "# Reversing the list\n",
        "numbers.reverse()\n",
        "\n",
        "# Print the reversed list\n",
        "print(\"Reversed list:\", numbers)\n",
        "\n"
      ],
      "metadata": {
        "colab": {
          "base_uri": "https://localhost:8080/"
        },
        "id": "fDA_EPvIY0oU",
        "outputId": "f35ce7ed-f87e-4cdd-bd55-0bae63156916"
      },
      "execution_count": 15,
      "outputs": [
        {
          "output_type": "stream",
          "name": "stdout",
          "text": [
            "Reversed list: [50, 40, 30, 20, 10]\n"
          ]
        }
      ]
    },
    {
      "cell_type": "code",
      "source": [
        "# Q-11.  Write a code to create a tuple with the elements 10, 20, 30 and print it.\n",
        "my_tuple = (10, 20, 30)\n",
        "\n",
        "# Printing the tuple\n",
        "print(\"Tuple:\", my_tuple)\n"
      ],
      "metadata": {
        "colab": {
          "base_uri": "https://localhost:8080/"
        },
        "id": "A2q0dYcPY7MP",
        "outputId": "972ba26a-b160-485b-a638-b7ba2c1fd3f9"
      },
      "execution_count": 17,
      "outputs": [
        {
          "output_type": "stream",
          "name": "stdout",
          "text": [
            "Tuple: (10, 20, 30)\n"
          ]
        }
      ]
    },
    {
      "cell_type": "code",
      "source": [
        "# Q-12. Write a code to access the first element of the tuple ('apple', 'banana', 'cherry').\n",
        "fruits = ('apple', 'banana', 'cherry')\n",
        "first_element = fruits[0]\n",
        "print(\"The first element is:\", first_element)\n"
      ],
      "metadata": {
        "colab": {
          "base_uri": "https://localhost:8080/"
        },
        "id": "vDrg27UEZALf",
        "outputId": "541f2448-68e3-4a29-daad-dce4e3fdab0a"
      },
      "execution_count": 18,
      "outputs": [
        {
          "output_type": "stream",
          "name": "stdout",
          "text": [
            "The first element is: apple\n"
          ]
        }
      ]
    },
    {
      "cell_type": "code",
      "source": [
        "# Q-13. Write a code to count how many times the number 2 appears in the tuple (1, 2, 3, 2, 4, 2).\n",
        "# Defining the tuple\n",
        "numbers = (1, 2, 3, 2, 4, 2)\n",
        "\n",
        "# Counting the occurrences of the number 2\n",
        "count_of_2 = numbers.count(2)\n",
        "\n",
        "# Printing the count\n",
        "print(\"The number 2 appears\", count_of_2, \"times in the tuple.\")\n"
      ],
      "metadata": {
        "colab": {
          "base_uri": "https://localhost:8080/"
        },
        "id": "LUaRjE2SaDVs",
        "outputId": "81c874f3-9a0b-443b-e38f-b8dd03158b35"
      },
      "execution_count": 19,
      "outputs": [
        {
          "output_type": "stream",
          "name": "stdout",
          "text": [
            "The number 2 appears 3 times in the tuple.\n"
          ]
        }
      ]
    },
    {
      "cell_type": "code",
      "source": [
        "# Q-14.  Write a code to find the index of the element \"cat\" in the tuple ('dog', 'cat', 'rabbit').\n",
        "# Defining the tuple\n",
        "animals = ('dog', 'cat', 'rabbit')\n",
        "\n",
        "# Finding the index of the element \"cat\"\n",
        "index_of_cat = animals.index('cat')\n",
        "\n",
        "# Printing the index\n",
        "print(\"The index of 'cat' is:\", index_of_cat)\n"
      ],
      "metadata": {
        "colab": {
          "base_uri": "https://localhost:8080/"
        },
        "id": "e-JXEQ-9aKhr",
        "outputId": "37712d21-4b8b-497c-91e4-bc6da1495d43"
      },
      "execution_count": 20,
      "outputs": [
        {
          "output_type": "stream",
          "name": "stdout",
          "text": [
            "The index of 'cat' is: 1\n"
          ]
        }
      ]
    },
    {
      "cell_type": "code",
      "source": [
        "# Q-15. Write a code to check if the element \"banana\" is in the tuple ('apple', 'orange', 'banana').\n",
        "# Defining the tuple\n",
        "fruits = ('apple', 'orange', 'banana')\n",
        "\n",
        "# Checking if \"banana\" is in the tuple\n",
        "if 'banana' in fruits:\n",
        "    print(\"Yes, 'banana' is in the tuple.\")\n",
        "else:\n",
        "    print(\"No, 'banana' is not in the tuple.\")\n"
      ],
      "metadata": {
        "colab": {
          "base_uri": "https://localhost:8080/"
        },
        "id": "5X9SnIsGaVHv",
        "outputId": "4a61aa9e-2e1e-4c82-a2ec-458a93a89ba1"
      },
      "execution_count": 21,
      "outputs": [
        {
          "output_type": "stream",
          "name": "stdout",
          "text": [
            "Yes, 'banana' is in the tuple.\n"
          ]
        }
      ]
    },
    {
      "cell_type": "code",
      "source": [
        "# Q-16.  Write a code to create a set with the elements 1, 2, 3, 4, 5 and print it.\n",
        "# Creating a set with the elements 1, 2, 3, 4, 5\n",
        "my_set = {1, 2, 3, 4, 5}\n",
        "\n",
        "# Printing the set\n",
        "print(\"Set:\", my_set)\n"
      ],
      "metadata": {
        "colab": {
          "base_uri": "https://localhost:8080/"
        },
        "id": "vNVGdQ0WacFq",
        "outputId": "3d6e42ca-a7d8-4622-c666-d9ffdf46db9e"
      },
      "execution_count": 22,
      "outputs": [
        {
          "output_type": "stream",
          "name": "stdout",
          "text": [
            "Set: {1, 2, 3, 4, 5}\n"
          ]
        }
      ]
    },
    {
      "cell_type": "code",
      "source": [
        "# Q-17. Write a code to add the element 6 to the set {1, 2, 3, 4}.\n",
        "# Creating the set\n",
        "my_set = {1, 2, 3, 4}\n",
        "\n",
        "# Adding the element 6 to the set\n",
        "my_set.add(6)\n",
        "\n",
        "# Printing the updated set\n",
        "print(\"Updated set:\", my_set)\n"
      ],
      "metadata": {
        "colab": {
          "base_uri": "https://localhost:8080/"
        },
        "id": "PfF5Ka8Jalgk",
        "outputId": "6437681c-e69d-4b94-f27b-51fe064b79eb"
      },
      "execution_count": 23,
      "outputs": [
        {
          "output_type": "stream",
          "name": "stdout",
          "text": [
            "Updated set: {1, 2, 3, 4, 6}\n"
          ]
        }
      ]
    },
    {
      "cell_type": "code",
      "source": [
        "# Q-18. Write a code to create a tuple with the elements 10, 20, 30 and print it.\n",
        "my_tuple = (10, 20, 30)\n",
        "\n",
        "# Printing the tuple\n",
        "print(\"Tuple:\", my_tuple)"
      ],
      "metadata": {
        "colab": {
          "base_uri": "https://localhost:8080/"
        },
        "id": "teq_fZccarE9",
        "outputId": "3d26aeb0-566b-4d6f-da54-b4e0023678d5"
      },
      "execution_count": 24,
      "outputs": [
        {
          "output_type": "stream",
          "name": "stdout",
          "text": [
            "Tuple: (10, 20, 30)\n"
          ]
        }
      ]
    },
    {
      "cell_type": "code",
      "source": [
        "# Q-19.  Write a code to access the first element of the tuple ('apple', 'banana', 'cherry').\n",
        "# Defining the tuple\n",
        "fruits = ('apple', 'banana', 'cherry')\n",
        "\n",
        "# Accessing the first element\n",
        "first_fruit = fruits[0]  # Index 0 corresponds to the first element\n",
        "\n",
        "# Printing the first element\n",
        "print(\"The first element is:\", first_fruit)\n"
      ],
      "metadata": {
        "colab": {
          "base_uri": "https://localhost:8080/"
        },
        "id": "yNfEPPZsbBzV",
        "outputId": "2e5e6d0a-9bba-4d7b-d280-fa6da4a2fe8b"
      },
      "execution_count": 25,
      "outputs": [
        {
          "output_type": "stream",
          "name": "stdout",
          "text": [
            "The first element is: apple\n"
          ]
        }
      ]
    },
    {
      "cell_type": "code",
      "source": [
        "# Q-20.  Write a code to count how many times the number 2 appears in the tuple (1, 2, 3, 2, 4, 2).\n",
        "# Defining the tuple\n",
        "numbers = (1, 2, 3, 2, 4, 2)\n",
        "\n",
        "# Counting the occurrences of the number 2\n",
        "count_of_2 = numbers.count(2)\n",
        "\n",
        "# Printing the count\n",
        "print(\"The number 2 appears\", count_of_2, \"times in the tuple.\")\n"
      ],
      "metadata": {
        "colab": {
          "base_uri": "https://localhost:8080/"
        },
        "id": "j3Xo6M1Mc4Jr",
        "outputId": "73d9eae7-1f63-4da5-ccb2-be2825477cd4"
      },
      "execution_count": 26,
      "outputs": [
        {
          "output_type": "stream",
          "name": "stdout",
          "text": [
            "The number 2 appears 3 times in the tuple.\n"
          ]
        }
      ]
    },
    {
      "cell_type": "code",
      "source": [
        "# Q-21. Write a code to find the index of the element \"cat\" in the tuple ('dog', 'cat', 'rabbit').\n",
        "# Defining the tuple\n",
        "animals = ('dog', 'cat', 'rabbit')\n",
        "\n",
        "# Finding the index of the element \"cat\"\n",
        "index_of_cat = animals.index('cat')\n",
        "\n",
        "# Printing the index\n",
        "print(\"The index of 'cat' is:\", index_of_cat)\n"
      ],
      "metadata": {
        "colab": {
          "base_uri": "https://localhost:8080/"
        },
        "id": "22i8B8l7c-qj",
        "outputId": "b2a81f4b-48e9-4c0c-93bf-c60c97ac377a"
      },
      "execution_count": 27,
      "outputs": [
        {
          "output_type": "stream",
          "name": "stdout",
          "text": [
            "The index of 'cat' is: 1\n"
          ]
        }
      ]
    },
    {
      "cell_type": "code",
      "source": [
        "# Q-22.  Write a code to check if the element \"banana\" is in the tuple ('apple', 'orange', 'banana').\n",
        "# Defining the tuple\n",
        "fruits = ('apple', 'orange', 'banana')\n",
        "\n",
        "# Checking if \"banana\" is in the tuple\n",
        "if 'banana' in fruits:\n",
        "    print(\"Yes, 'banana' is in the tuple.\")\n",
        "else:\n",
        "    print(\"No, 'banana' is not in the tuple.\")\n"
      ],
      "metadata": {
        "colab": {
          "base_uri": "https://localhost:8080/"
        },
        "id": "KAgBFewAdLZa",
        "outputId": "06698612-8a44-415c-bb43-cd7210b9619b"
      },
      "execution_count": 28,
      "outputs": [
        {
          "output_type": "stream",
          "name": "stdout",
          "text": [
            "Yes, 'banana' is in the tuple.\n"
          ]
        }
      ]
    },
    {
      "cell_type": "code",
      "source": [
        "# Q-23.  Write a code to create a set with the elements 1, 2, 3, 4, 5 and print it.\n",
        "# Creating a set with the elements 1, 2, 3, 4, 5\n",
        "my_set = {1, 2, 3, 4, 5}\n",
        "\n",
        "# Printing the set\n",
        "print(\"Set:\", my_set)"
      ],
      "metadata": {
        "colab": {
          "base_uri": "https://localhost:8080/"
        },
        "id": "s8rMb0FzdQTg",
        "outputId": "167adc7e-2676-4293-8763-edd6dd2965d3"
      },
      "execution_count": 29,
      "outputs": [
        {
          "output_type": "stream",
          "name": "stdout",
          "text": [
            "Set: {1, 2, 3, 4, 5}\n"
          ]
        }
      ]
    },
    {
      "cell_type": "code",
      "source": [
        "# Q-24.  Write a code to add the element 6 to the set {1, 2, 3, 4}.\n",
        "# Creating the set\n",
        "my_set = {1, 2, 3, 4}\n",
        "\n",
        "# Adding the element 6 to the set\n",
        "my_set.add(6)\n",
        "\n",
        "# Printing the updated set\n",
        "print(\"Updated set:\", my_set)\n"
      ],
      "metadata": {
        "colab": {
          "base_uri": "https://localhost:8080/"
        },
        "id": "uKDMuXcqdXwU",
        "outputId": "60b24f30-dcca-4049-f3e0-2947c9334974"
      },
      "execution_count": 30,
      "outputs": [
        {
          "output_type": "stream",
          "name": "stdout",
          "text": [
            "Updated set: {1, 2, 3, 4, 6}\n"
          ]
        }
      ]
    }
  ]
}